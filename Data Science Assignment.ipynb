{
 "cells": [
  {
   "cell_type": "markdown",
   "metadata": {},
   "source": [
    "# HYPOTHESIS TESTING NUMERICALS\n",
    "\n",
    "Samridhi Kohli 169108125  \n",
    "Ankita Tuli   169108024\n",
    "\n",
    "<hr>"
   ]
  },
  {
   "cell_type": "markdown",
   "metadata": {},
   "source": [
    "** Q: Doctors believe that they see on average atleast 8 patients per day. Management claims that they don't see these many patients consistently. They sample 15 doctors who report a sample mean of 7.5 patients seen per dat with standard deviations of 1.1 patients. Test management claim at 0.025 level of significance? **"
   ]
  },
  {
   "cell_type": "markdown",
   "metadata": {},
   "source": [
    "Sample size n<30   \n",
    "Hence special case of T distribution\n",
    "\n",
    "H0: u>=8  \n",
    "Ha: u<8 \n",
    "\n",
    "This '<' sign in Ha indicates Left Tail Test\n"
   ]
  },
  {
   "cell_type": "code",
   "execution_count": 7,
   "metadata": {
    "collapsed": true
   },
   "outputs": [],
   "source": [
    "#importing library\n",
    "from scipy.stats import t\n",
    "import numpy as np"
   ]
  },
  {
   "cell_type": "code",
   "execution_count": 39,
   "metadata": {
    "collapsed": true
   },
   "outputs": [],
   "source": [
    "#function for test statistics\n",
    "def ttest(m,hyp,std,n):\n",
    "    t=(m-hyp)/(std/np.sqrt(n))\n",
    "    return t"
   ]
  },
  {
   "cell_type": "code",
   "execution_count": 40,
   "metadata": {},
   "outputs": [
    {
     "name": "stdout",
     "output_type": "stream",
     "text": [
      "Fail to reject null hypothesis at 0.025 level of significance.\n",
      "('the value of ttabulated is', -2.1009220402409601)\n",
      "('the value of tcalculated is', -1.981317701609397)\n"
     ]
    }
   ],
   "source": [
    "#alpha value\n",
    "alpha=0.025\n",
    "\n",
    "#number of samples\n",
    "n=19\n",
    "\n",
    "#degree of freedom\n",
    "dof=n-1\n",
    "\n",
    "#sample mean value\n",
    "m=7.5\n",
    " \n",
    "#sample standard deviation\n",
    "std=1.1\n",
    "\n",
    "#parameter value\n",
    "hyp=8\n",
    "\n",
    "#table value\n",
    "ttabulated=t.ppf(alpha,df=dof)\n",
    "\n",
    "#THIS FUNCTION GIVES THE AREA FROM THE LEFT SIDE UNLIKE THE TABLE\n",
    "\n",
    "#calculated value\n",
    "tcalculated=ttest(m,hyp,std,n) \n",
    "\n",
    "#hypothesis testing for left tail test\n",
    "if tcalculated<ttabulated:\n",
    "    print(\"Rejecting null hypothesis at 0.025 level of significance.\")\n",
    "else:\n",
    "    print(\"Fail to reject null hypothesis at 0.025 level of significance.\")\n",
    "    \n",
    "print(\"the value of ttabulated is\", ttabulated)\n",
    "print(\"the value of tcalculated is\", tcalculated)"
   ]
  },
  {
   "cell_type": "markdown",
   "metadata": {},
   "source": [
    "<hr>\n",
    "\n",
    "** Q: A grocery store assumes that the average shopper spends no more than 100 dollars in the store.The new manager believes that they spend more.He choose 27 shoppers randomly and they spend an average of 104.93 dollars with the standard deviation of 9.07 dollars.Test the manager's claim at 0.05 level of significance level. ** "
   ]
  },
  {
   "cell_type": "markdown",
   "metadata": {},
   "source": [
    "Sample size n<30   \n",
    "Hence special case of T distribution\n",
    "\n",
    "H0: u<=100   \n",
    "Ha: u>100 \n",
    "\n",
    "This '>' sign in Ha indicates Right Tail Test"
   ]
  },
  {
   "cell_type": "code",
   "execution_count": 18,
   "metadata": {
    "collapsed": true
   },
   "outputs": [],
   "source": [
    "#importing library\n",
    "from scipy.stats import t\n",
    "import numpy as np"
   ]
  },
  {
   "cell_type": "code",
   "execution_count": 41,
   "metadata": {
    "collapsed": true
   },
   "outputs": [],
   "source": [
    "#function for test statistics\n",
    "def ttest(m,hyp,std,n):\n",
    "    t=(m-hyp)/(std/np.sqrt(n))\n",
    "    return t"
   ]
  },
  {
   "cell_type": "code",
   "execution_count": 42,
   "metadata": {},
   "outputs": [
    {
     "name": "stdout",
     "output_type": "stream",
     "text": [
      "Rejecting null hypothesis at 0.05 level of significance.\n",
      "('the value of ttabulated is', 1.7056179197592727)\n",
      "('the value of tcalculated is', 2.8243695087038292)\n"
     ]
    }
   ],
   "source": [
    "#alpha value\n",
    "alpha=0.05\n",
    "\n",
    "#number of samples\n",
    "n=27\n",
    "\n",
    "#degree of freedom\n",
    "dof=n-1\n",
    "\n",
    "#sample mean value\n",
    "m=104.93\n",
    " \n",
    "#sample standard deviation\n",
    "std=9.07\n",
    "\n",
    "#parameter value\n",
    "hyp=100\n",
    "\n",
    "#table value\n",
    "ttabulated=t.ppf(1-alpha,df=dof)\n",
    "\n",
    "#THIS FUNCTION GIVES THE AREA FROM THE LEFT SIDE UNLIKE THE TABLE\n",
    "\n",
    "#calculated value\n",
    "tcalculated=ttest(m,hyp,std,n) \n",
    "\n",
    "#hypothesis testing for right tail test\n",
    "if tcalculated>ttabulated:\n",
    "    print(\"Rejecting null hypothesis at 0.05 level of significance.\")\n",
    "else:\n",
    "    print(\"Fail to reject null hypothesis at 0.05 level of significance.\")\n",
    "    \n",
    "print(\"the value of ttabulated is\", ttabulated)\n",
    "print(\"the value of tcalculated is\", tcalculated)"
   ]
  },
  {
   "cell_type": "markdown",
   "metadata": {},
   "source": [
    "<hr>\n",
    "** Q:  At a water bottle factory, a machine is supposed to put 2 litres of water into bottles. After an overfall, management thinks machine is no longer putting the correct amount of water in it. They sample 20 bottles and find an average of 2.10L of water with standard deviation of 0.33L.  Test the claim at 0.01 level os significance? **"
   ]
  },
  {
   "cell_type": "markdown",
   "metadata": {},
   "source": [
    "Sample size n<30\n",
    "Hence special case of T distribution\n",
    "\n",
    "H0: u=2  \n",
    "Ha: u!=2\n",
    "\n",
    "This '!=' sign in Ha indicates Two Tail Test"
   ]
  },
  {
   "cell_type": "code",
   "execution_count": 27,
   "metadata": {
    "collapsed": true
   },
   "outputs": [],
   "source": [
    "#importing library\n",
    "from scipy.stats import t\n",
    "import numpy as np"
   ]
  },
  {
   "cell_type": "code",
   "execution_count": 43,
   "metadata": {
    "collapsed": true
   },
   "outputs": [],
   "source": [
    "#function for test statistics\n",
    "def ttest(m,hyp,std,n):\n",
    "    t=(m-hyp)/(std/np.sqrt(n))\n",
    "    return t"
   ]
  },
  {
   "cell_type": "code",
   "execution_count": 45,
   "metadata": {},
   "outputs": [
    {
     "name": "stdout",
     "output_type": "stream",
     "text": [
      "Fail to reject null hypothesis at 0.01 level of significance.\n",
      "('the value of ttabulated1 is', -2.8609346064499142)\n",
      "('the value of ttabulated2 is', 2.8609346064499142)\n",
      "('the value of tcalculated is', 1.3551927136362374)\n"
     ]
    }
   ],
   "source": [
    "#alpha value\n",
    "alpha=0.01\n",
    "\n",
    "#number of samples\n",
    "n=20\n",
    "\n",
    "#degree of freedom\n",
    "dof=n-1\n",
    "\n",
    "#sample mean value\n",
    "m=2.10\n",
    " \n",
    "#sample standard deviation\n",
    "std=0.33\n",
    "\n",
    "#parameter value\n",
    "hyp=2\n",
    "\n",
    "#table value\n",
    "ttabulated1=t.ppf((alpha/2),df=dof)\n",
    "ttabulated2=-ttabulated1\n",
    "\n",
    "#THIS FUNCTION GIVES THE AREA FROM THE LEFT SIDE UNLIKE THE TABLE\n",
    "\n",
    "#calculated value\n",
    "tcalculated=ttest(m,hyp,std,n)\n",
    "\n",
    "#hypothesis testing for right tail test\n",
    "if tcalculated>ttabulated1 or tcalculated<ttabulated2:\n",
    "    print(\"Fail to reject null hypothesis at 0.01 level of significance.\")\n",
    "else:\n",
    "    print(\"Reject null hypothesis at 0.01 level of significance.\")\n",
    "    \n",
    "print(\"the value of ttabulated1 is\", ttabulated1)\n",
    "print(\"the value of ttabulated2 is\", ttabulated2)\n",
    "print(\"the value of tcalculated is\", tcalculated)"
   ]
  },
  {
   "cell_type": "markdown",
   "metadata": {},
   "source": [
    "<hr>\n",
    "\n",
    "** Q: Records show that student on average score less than or equal to 850 on a test. A test prep company says that students who take their course will score on average higher than this. To test, they sample 1000 students who score an average of 856 with a standard deviation of 98 after taking the course.At 0.05 level of significance,test the company's claim. ** "
   ]
  },
  {
   "cell_type": "markdown",
   "metadata": {},
   "source": [
    "Sample size n>30\n",
    "Hence case of normal distribution\n",
    "\n",
    "H0: u<=850  \n",
    "Ha: u>850\n",
    "\n",
    "This '>' sign in Ha indicates Right Tail Test"
   ]
  },
  {
   "cell_type": "code",
   "execution_count": 61,
   "metadata": {
    "collapsed": true
   },
   "outputs": [],
   "source": [
    "#importing library\n",
    "from scipy.stats import t\n",
    "import numpy as np\n",
    "import scipy.stats as st"
   ]
  },
  {
   "cell_type": "code",
   "execution_count": 62,
   "metadata": {
    "collapsed": true
   },
   "outputs": [],
   "source": [
    "#function for test statistics\n",
    "def ztest(m,hyp,std,n):\n",
    "    z=(m-hyp)/(std/np.sqrt(n))\n",
    "    \n",
    "    return z"
   ]
  },
  {
   "cell_type": "code",
   "execution_count": 66,
   "metadata": {},
   "outputs": [
    {
     "name": "stdout",
     "output_type": "stream",
     "text": [
      "Reject null hypothesis at 0.05 level of significance.\n",
      "('the value of pvalue is', 0.026428439746275845)\n",
      "('the value of zalculated is', 1.9360883633683954)\n"
     ]
    }
   ],
   "source": [
    "#alpha value\n",
    "alpha=0.05\n",
    "\n",
    "#number of samples\n",
    "n=1000\n",
    "\n",
    "#sample mean value\n",
    "m=856\n",
    " \n",
    "#sample standard deviation\n",
    "std=98\n",
    "\n",
    "#parameter value\n",
    "hyp=850\n",
    "\n",
    "#calculated value\n",
    "zcalculated=ztest(m,hyp,std,n)\n",
    "\n",
    "#pvalue\n",
    "pvalue=1-st.norm.cdf(zcalculated)\n",
    "\n",
    "#THIS FUNCTION GIVES AREA TO THE LEFT \n",
    "\n",
    "#hypothesis testing for right tail test\n",
    "if pvalue>alpha:\n",
    "    print(\"Fail to reject null hypothesis at 0.05 level of significance.\")\n",
    "else:\n",
    "    print(\"Reject null hypothesis at 0.05 level of significance.\")\n",
    "    \n",
    "print(\"the value of pvalue is\",pvalue)\n",
    "print(\"the value of zalculated is\", zalculated)"
   ]
  },
  {
   "cell_type": "markdown",
   "metadata": {},
   "source": [
    "<hr>\n",
    "\n",
    "** Q: A study showed that an average women in a city had 1.48 kids. A researcher believes this number is wrong. He surveys 128 women in the city and find that on average these women had 1.39 kids with standard deviation of 0.84 kids.At 90% level of confidence test the claim. **\n"
   ]
  },
  {
   "cell_type": "markdown",
   "metadata": {},
   "source": [
    "Sample size n>30 Hence case of normal distribution\n",
    "\n",
    "H0: u=148  \n",
    "Ha: u!=148\n",
    "\n",
    "This '!=' sign in Ha indicates Two Tail Test"
   ]
  },
  {
   "cell_type": "code",
   "execution_count": 68,
   "metadata": {
    "collapsed": true
   },
   "outputs": [],
   "source": [
    "#importing library\n",
    "from scipy.stats import t\n",
    "import numpy as np\n",
    "import scipy.stats as st"
   ]
  },
  {
   "cell_type": "code",
   "execution_count": 69,
   "metadata": {
    "collapsed": true
   },
   "outputs": [],
   "source": [
    "#function for test statistics\n",
    "def ztest(m,hyp,std,n):\n",
    "    z=(m-hyp)/(std/np.sqrt(n))\n",
    "    \n",
    "    return z"
   ]
  },
  {
   "cell_type": "code",
   "execution_count": 72,
   "metadata": {},
   "outputs": [
    {
     "name": "stdout",
     "output_type": "stream",
     "text": [
      "Fail to reject null hypothesis at 0.10 level of significance.\n",
      "('the value of pvalue is', 0.22544231699451256)\n",
      "('the value of zalculated is', -1.2121830534626541)\n"
     ]
    }
   ],
   "source": [
    "#alpha value\n",
    "alpha=0.10\n",
    "\n",
    "#number of samples\n",
    "n=128\n",
    "\n",
    "#sample mean value\n",
    "m=1.39\n",
    " \n",
    "#sample standard deviation\n",
    "std=0.84\n",
    "\n",
    "#parameter value\n",
    "hyp=1.48\n",
    "\n",
    "#calculated value\n",
    "zcalculated=ztest(m,hyp,std,n)\n",
    "\n",
    "#pvalue\n",
    "pvalue=2*st.norm.cdf(zcalculated)\n",
    "\n",
    "#THIS FUNCTION GIVES AREA TO THE LEFT \n",
    "\n",
    "#hypothesis testing for two tail test\n",
    "if pvalue>alpha:\n",
    "    print(\"Fail to reject null hypothesis at 0.10 level of significance.\")\n",
    "else:\n",
    "    print(\"Reject null hypothesis at 0.10 level of significance.\")\n",
    "    \n",
    "print(\"the value of pvalue is\",pvalue)\n",
    "print(\"the value of zalculated is\", zcalculated)"
   ]
  },
  {
   "cell_type": "markdown",
   "metadata": {},
   "source": [
    "<hr>\n",
    "\n",
    "** Q: A report states that atleast 75% of women like red roses.Angie thinks this figure is too high. She asked 125 women and finds that 92 do like red roses. At a 0.10 level of significance, test the claim. ** "
   ]
  },
  {
   "cell_type": "markdown",
   "metadata": {},
   "source": [
    "Sample size n>30  Hence case of normal distribution\n",
    "\n",
    "H0: p>=0.75  \n",
    "Ha: p<0.75\n",
    "\n",
    "This '<' sign in Ha indicates Left Tail Test"
   ]
  },
  {
   "cell_type": "code",
   "execution_count": 79,
   "metadata": {
    "collapsed": true
   },
   "outputs": [],
   "source": [
    "#importing library\n",
    "from scipy.stats import t\n",
    "import numpy as np\n",
    "import scipy.stats as st\n",
    "import scipy.special as sp"
   ]
  },
  {
   "cell_type": "code",
   "execution_count": 80,
   "metadata": {
    "collapsed": true
   },
   "outputs": [],
   "source": [
    "#function for test statistics\n",
    "#p1:sample proportion and p:population proportion\n",
    "def ztestp(p1,p,n):\n",
    "    z=(p1-p)/(np.sqrt(p*(1-p)/n)) \n",
    "    return z"
   ]
  },
  {
   "cell_type": "code",
   "execution_count": 82,
   "metadata": {},
   "outputs": [
    {
     "name": "stdout",
     "output_type": "stream",
     "text": [
      "Fail to reject null hypothesis at 0.10 level of significance.\n",
      "('the value of pvalue is', 0.35887090756368978)\n",
      "('the value of zalculated is', -0.36147844564602588)\n"
     ]
    }
   ],
   "source": [
    "#alpha value\n",
    "alpha=0.10\n",
    "\n",
    "#number of samples\n",
    "n=125\n",
    "\n",
    "#population proportion\n",
    "p=0.75\n",
    "\n",
    "#sample proportion\n",
    "p1=0.736\n",
    "\n",
    "#checking condition to use normal distribution\n",
    "if n*p>=5 and n*(1-p)>=5:\n",
    "    zcalculated=ztestp(p1,p,n)\n",
    "    \n",
    "#pvalue\n",
    "pvalue=st.norm.cdf(zcalculated)\n",
    "\n",
    "#hypothesis testing for left tail test\n",
    "if pvalue>alpha:\n",
    "    print(\"Fail to reject null hypothesis at 0.10 level of significance.\")\n",
    "else:\n",
    "    print(\"Reject null hypothesis at 0.10 level of significance.\")\n",
    "    \n",
    "print(\"the value of pvalue is\",pvalue)\n",
    "print(\"the value of zalculated is\", zcalculated)"
   ]
  },
  {
   "cell_type": "markdown",
   "metadata": {},
   "source": [
    "<hr>\n",
    "\n",
    "** Q: A pencil manufacturer requires that the mass of their pencils have standard deviation that won't exceed 0.08gms. An inspector think that the standard deviation is larger. He samples 30 pencils and finds they have a mean mass of 1.62gm and standard deviation of 0.804gm. Test the claim at 0.05 level of significance.** "
   ]
  },
  {
   "cell_type": "markdown",
   "metadata": {},
   "source": [
    "With respect to standard deviation so chi square test\n",
    "\n",
    "H0: std<=0.08  \n",
    "Ha: std>0.08\n",
    "\n",
    "This '>' sign in Ha indicates Right Tail Test"
   ]
  },
  {
   "cell_type": "code",
   "execution_count": 88,
   "metadata": {
    "collapsed": true
   },
   "outputs": [],
   "source": [
    "#importing library\n",
    "from scipy.stats import t\n",
    "import numpy as np\n",
    "import scipy.stats as st"
   ]
  },
  {
   "cell_type": "code",
   "execution_count": 94,
   "metadata": {
    "collapsed": true
   },
   "outputs": [],
   "source": [
    "#function for test statistics\n",
    "def c2test(n,S,V):\n",
    "    chi=((n-1)*np.power(S,2))/(np.power(V,2))\n",
    "    \n",
    "    return chi"
   ]
  },
  {
   "cell_type": "code",
   "execution_count": 99,
   "metadata": {},
   "outputs": [
    {
     "name": "stdout",
     "output_type": "stream",
     "text": [
      "Fail to reject null hypothesis at 0.05 level of significance.\n",
      "('the value of chitabulated is', 42.556967804292668)\n",
      "('the value of chicalculated is', 2929.0725000000007)\n"
     ]
    }
   ],
   "source": [
    "#alpha value\n",
    "alpha=0.05\n",
    "\n",
    "#number of samples\n",
    "n=30\n",
    "\n",
    "#degree of freedom\n",
    "dof=n-1\n",
    "\n",
    "#sample variance\n",
    "S=0.804\n",
    " \n",
    "#population variance\n",
    "V=0.08\n",
    "\n",
    "#calculated value\n",
    "chicalculated=c2test(n,S,V)\n",
    "\n",
    "#tabulated value\n",
    "chitabulated=st.chi2.ppf(q=1-alpha,df=dof)\n",
    "\n",
    "#THIS FUNCTION GIVES AREAR TO THE LEFT UNLIKE TABLE\n",
    "\n",
    "#hypothesis testing for right tail test\n",
    "if chicalculated>chitabulated:\n",
    "    print(\"Fail to reject null hypothesis at 0.05 level of significance.\")\n",
    "else:\n",
    "    print(\"Reject null hypothesis at 0.05 level of significance.\")\n",
    "    \n",
    "print(\"the value of chitabulated is\",chitabulated)\n",
    "print(\"the value of chicalculated is\",chicalculated)"
   ]
  },
  {
   "cell_type": "markdown",
   "metadata": {},
   "source": [
    "<hr>\n",
    "\n",
    "** Q:A pizza manufacturer says his pizza's have a variance in the diameter of 16cm. He installs new equipment and now no longer thinks this is the case. He selects 40 pizza's of the lime and finds they have a standard deviation of 3.2cm. Test the claim at 90% level of confidence. **\n",
    "\n",
    "\n",
    "\n"
   ]
  },
  {
   "cell_type": "markdown",
   "metadata": {},
   "source": [
    "With respect to variance so chi square test\n",
    "\n",
    "H0: var=16  \n",
    "Ha: std!=16\n",
    "\n",
    "This '!=' sign in Ha indicates Two Tail Test"
   ]
  },
  {
   "cell_type": "code",
   "execution_count": 103,
   "metadata": {
    "collapsed": true
   },
   "outputs": [],
   "source": [
    "#importing library\n",
    "from scipy.stats import t\n",
    "import numpy as np\n",
    "import scipy.stats as st"
   ]
  },
  {
   "cell_type": "code",
   "execution_count": 104,
   "metadata": {
    "collapsed": true
   },
   "outputs": [],
   "source": [
    "#function for test statistics\n",
    "def c2test(n,S,V):\n",
    "    chi=((n-1)*np.power(S,2))/(np.power(V,1))\n",
    "    \n",
    "    return chi"
   ]
  },
  {
   "cell_type": "code",
   "execution_count": null,
   "metadata": {
    "collapsed": true
   },
   "outputs": [],
   "source": [
    "#alpha value\n",
    "alpha=0.1\n",
    "\n",
    "#number of samples\n",
    "n=40\n",
    "\n",
    "#degree of freedom\n",
    "dof=n-1\n",
    "\n",
    "#sample variance\n",
    "S=3.2\n",
    " \n",
    "#population variance\n",
    "V=16\n",
    "\n",
    "#calculated value\n",
    "chicalculated=c2test(n,S,V)\n",
    "\n",
    "#tabulated value\n",
    "chitabulated1=st.chi2.ppf(q=alpha/2,df=dof)\n",
    "chitabulated2=st.chi2.ppf(q=1-(alpha/2),df=dof)\n",
    "\n",
    "#THIS FUNCTION GIVES AREAR TO THE LEFT UNLIKE TABLE\n",
    "\n",
    "#hypothesis testing for two tail test\n",
    "if chicalculated>chitabulated1 and chicalculated<chitabulated2:\n",
    "    print(\"Fail to reject null hypothesis at 0.1 level of significance.\")\n",
    "else:\n",
    "    print(\"Reject null hypothesis at 0.1 level of significance.\")\n",
    "    \n",
    "print(\"the value of chitabulated1 is\",chitabulated1)\n",
    "print(\"the value of chitabulated2 is\",chitabulated2)\n",
    "print(\"the value of chicalculated is\",chicalculated)"
   ]
  },
  {
   "cell_type": "markdown",
   "metadata": {},
   "source": [
    "<hr>\n",
    "\n",
    "** Q: A researcher thinks that grocery shoppers spend more when they have not eaten. To test,the samples 41 shoppers, who did not eat breakfast.These people spent on an average 72.27 dollars with standard deviation of 8.05 dollars.52 shoppers who did not eat breakfast spent on average 69.43 dollars with standard deviation of 9.22 dollars.Test with 95% level of significance. ** \n"
   ]
  },
  {
   "cell_type": "markdown",
   "metadata": {},
   "source": [
    "Sample size of both samples n>30 Hence normal distribution\n",
    "\n",
    "H0: u1<=u2  \n",
    "Ha: u1>u2\n",
    "\n",
    "u1: who did not eat  \n",
    "u2: who did eat\n",
    "\n",
    "This '>' sign in Ha indicates Right Tail Test"
   ]
  },
  {
   "cell_type": "code",
   "execution_count": 118,
   "metadata": {
    "collapsed": true
   },
   "outputs": [],
   "source": [
    "#importing library\n",
    "from scipy.stats import t\n",
    "import numpy as np\n",
    "import scipy.stats as st"
   ]
  },
  {
   "cell_type": "code",
   "execution_count": 121,
   "metadata": {
    "collapsed": true
   },
   "outputs": [],
   "source": [
    "#function for test statistics\n",
    "def z2meantest(n1,n2,x1,x2,hyp,s1,s2):\n",
    "    z=((x1-x2)-hyp)/(np.sqrt((np.power(s1,2)/n1)+(np.power(s2,2)/n2)))\n",
    "    return z"
   ]
  },
  {
   "cell_type": "code",
   "execution_count": 122,
   "metadata": {},
   "outputs": [
    {
     "name": "stdout",
     "output_type": "stream",
     "text": [
      "Fail to reject null hypothesis at 0.05 level of significance\n",
      "('Calculated value of z is', 1.5838201133696501)\n",
      "('Pvalue is', 0.056617330415800082)\n"
     ]
    }
   ],
   "source": [
    "#number of observations in sample1\n",
    "n1=41\n",
    "\n",
    "#number of obserations in sample2\n",
    "n2=52\n",
    "\n",
    "#mean of sample1\n",
    "x1=72.27\n",
    "\n",
    "#mean of sample2\n",
    "x2=69.43\n",
    "\n",
    "#standard deviation of sample1\n",
    "s1=8.05\n",
    "\n",
    "#standard deviation of sample2\n",
    "s2=9.22\n",
    "\n",
    "#parameter value\n",
    "hyp=0\n",
    "\n",
    "#alpha value\n",
    "alpha=0.05\n",
    "\n",
    "#zcalculated value\n",
    "zcalculated=z2meantest(n1,n2,x1,x2,hyp,s1,s2)\n",
    "\n",
    "#pvalue\n",
    "pvalue=1-st.norm.cdf(zcalculated)\n",
    "\n",
    "#THIS FUNCTION GIVES AREA TO THE LEFT\n",
    "\n",
    "#hypothesis testing for right tail test\n",
    "if pvalue>alpha:\n",
    "    print(\"Fail to reject null hypothesis at 0.05 level of significance\")\n",
    "else:\n",
    "    print(\"Reject null hypotheis at 0.05 level of significance\")\n",
    "    \n",
    "print(\"Calculated value of z is\",zcalculated)\n",
    "print(\"Pvalue is\", pvalue)"
   ]
  },
  {
   "cell_type": "markdown",
   "metadata": {},
   "source": [
    "<hr>\n",
    "\n",
    "** Q: A new cholestrol drug claims to lower cholestrol by over 20 points.Group A of 55 people exercise and take the drug and lower the cholestrol by an average of 44.7 points with standard deviation of 6.8 points.Group B is 55 different people who exercise but do not take the drug and lower the cholestrol by an average of 23.1 points with standard deviation of 5.3 points.Test at 5% level of significance. **"
   ]
  },
  {
   "cell_type": "markdown",
   "metadata": {},
   "source": [
    "Sample size of both samples n>30 Hence normal distribution\n",
    "\n",
    "H0: u1-u2<=20  \n",
    "Ha: u1-u2>20\n",
    "\n",
    "u1: GroupA\n",
    "u2: GroupB\n",
    "\n",
    "This '>' sign in Ha indicates Right Tail Test"
   ]
  },
  {
   "cell_type": "code",
   "execution_count": 124,
   "metadata": {
    "collapsed": true
   },
   "outputs": [],
   "source": [
    "#importing library\n",
    "from scipy.stats import t\n",
    "import numpy as np\n",
    "import scipy.stats as st"
   ]
  },
  {
   "cell_type": "code",
   "execution_count": 125,
   "metadata": {
    "collapsed": true
   },
   "outputs": [],
   "source": [
    "#function for test statistics\n",
    "def z2meantest(n1,n2,x1,x2,hyp,s1,s2):\n",
    "    z=((x1-x2)-hyp)/(np.sqrt((np.power(s1,2)/n1)+(np.power(s2,2)/n2)))\n",
    "    return z"
   ]
  },
  {
   "cell_type": "code",
   "execution_count": 126,
   "metadata": {},
   "outputs": [
    {
     "name": "stdout",
     "output_type": "stream",
     "text": [
      "Fail to reject null hypothesis at 0.05 level of significance\n",
      "('Calculated value of z is', 1.3763194933493625)\n",
      "('Pvalue is', 0.084361370191778917)\n"
     ]
    }
   ],
   "source": [
    "#number of observations in sample1\n",
    "n1=55\n",
    "\n",
    "#number of obserations in sample2\n",
    "n2=55\n",
    "\n",
    "#mean of sample1\n",
    "x1=44.7\n",
    "\n",
    "#mean of sample2\n",
    "x2=23.1\n",
    "\n",
    "#standard deviation of sample1\n",
    "s1=6.8\n",
    "\n",
    "#standard deviation of sample2\n",
    "s2=5.3\n",
    "\n",
    "#parameter value\n",
    "hyp=20\n",
    "\n",
    "#alpha value\n",
    "alpha=0.01\n",
    "\n",
    "#zcalculated value\n",
    "zcalculated=z2meantest(n1,n2,x1,x2,hyp,s1,s2)\n",
    "\n",
    "#pvalue\n",
    "pvalue=1-st.norm.cdf(zcalculated)\n",
    "\n",
    "#THIS FUNCTION GIVES AREA TO THE LEFT\n",
    "\n",
    "#hypothesis testing for right tail test\n",
    "if pvalue>alpha:\n",
    "    print(\"Fail to reject null hypothesis at 0.05 level of significance\")\n",
    "else:\n",
    "    print(\"Reject null hypotheis at 0.05 level of significance\")\n",
    "    \n",
    "print(\"Calculated value of z is\",zcalculated)\n",
    "print(\"Pvalue is\", pvalue)"
   ]
  },
  {
   "cell_type": "markdown",
   "metadata": {},
   "source": [
    "<hr>\n",
    "** Q: It is proved that people who go to home improvement classes finish project in less time.Group A has 10 people who attended the classes. On average, they finish projects in 14.1 hours with standard deviation of 2.3 hours. Group B has 10 people who ddi not attend the classes and finish projects on average of 15.6 hours with standard deviation of 2.4 hours. Test the claim at 0.01 level of significance. **"
   ]
  },
  {
   "cell_type": "markdown",
   "metadata": {},
   "source": [
    "Sample size of one of the samples n<30 Hence T distribution\n",
    "\n",
    "H0: u1-u2>=0  \n",
    "Ha: u1-u2<0\n",
    "\n",
    "u1: GroupA  \n",
    "u2: GroupB\n",
    "\n",
    "This '<' sign in Ha indicates Left Tail Test"
   ]
  },
  {
   "cell_type": "code",
   "execution_count": 153,
   "metadata": {
    "collapsed": true
   },
   "outputs": [],
   "source": [
    "#importing library\n",
    "from scipy.stats import t\n",
    "import numpy as np\n",
    "import scipy.stats as st"
   ]
  },
  {
   "cell_type": "code",
   "execution_count": 160,
   "metadata": {
    "collapsed": true
   },
   "outputs": [],
   "source": [
    "#function for test statistics\n",
    "def mean2test(m1,m2,hyp,s1,s2,n1,n2,dof):\n",
    "    v1=np.power(s1,2)\n",
    "    v2=np.power(s2,2)\n",
    "    \n",
    "    if v1==v2:\n",
    "        dof=n1+n2-2\n",
    "        x=np.sqrt(((n1-1)*v1 + (n2-1)*v2)/dof)\n",
    "        ts=((m1-m2)-hyp)/(x*np.sqrt(1/n1 +1/n2))\n",
    "    else:\n",
    "        dof=min(n1-1,n2-1)\n",
    "        ts=((m1-m2)-hyp)/(np.sqrt(v1/n1 + v2/n2))\n",
    "                    \n",
    "        return ts,dof"
   ]
  },
  {
   "cell_type": "code",
   "execution_count": 167,
   "metadata": {},
   "outputs": [
    {
     "name": "stdout",
     "output_type": "stream",
     "text": [
      "Fail to reject null hypothesis at 0.01 level of significance.\n",
      "('the value of ttabulated is', -2.8214379233005498)\n",
      "('the value of tcalculated is', -0.95130298830898818)\n"
     ]
    }
   ],
   "source": [
    "#alpha value\n",
    "alpha=0.01\n",
    "\n",
    "#number of observations in sample1\n",
    "n1=10 \n",
    "\n",
    "#number of observations in sample2\n",
    "n2=10 \n",
    "\n",
    "#degree of freedom\n",
    "dof=n1+n2-2\n",
    "\n",
    "#mean of sample1\n",
    "m1=14\n",
    "\n",
    "#mean of sample2\n",
    "m2=15 \n",
    "\n",
    "#standard deviation of sample1\n",
    "s1=2.3\n",
    "\n",
    "#standard deviation of sample2\n",
    "s2=2.4\n",
    "\n",
    "#parameter value\n",
    "hyp=0\n",
    "\n",
    "#calculated value\n",
    "tcalculated,dof=mean2test(m1,m2,hyp,s1,s2,n1,n2,dof) \n",
    "\n",
    "#tabulated value\n",
    "ttabulated=t.ppf(alpha,df=dof) \n",
    "\n",
    "#THIS FUNCTION GIVES AREA TO THE LEFT UNLINE TABLE\n",
    "\n",
    "#hypothesis testing for left tail test\n",
    "if tcalculated<ttabulated:\n",
    "    print(\"Reject null hypothesis at 0.01 level of significance.\")\n",
    "else:\n",
    "    print(\"Fail to reject null hypothesis at 0.01 level of significance.\")\n",
    "    \n",
    "print(\"the value of ttabulated is\", ttabulated)\n",
    "print(\"the value of tcalculated is\", tcalculated)"
   ]
  },
  {
   "cell_type": "markdown",
   "metadata": {},
   "source": [
    "<hr>\n",
    "** Q:A test prep company claims that their class increases test scores. In a city A, 15 students took the classes and got an average score of 942 points with standard deviation 103 points. In city B 18 students did not take the class and got an average of 898 score with 95 points.Test the claim at 0.95 level of significance because students are not in the same city, assume variance are not equal. ** "
   ]
  },
  {
   "cell_type": "markdown",
   "metadata": {},
   "source": [
    "Sample size of one of the samples n<30 Hence T distribution\n",
    "\n",
    "H0: u1-u2<=0  \n",
    "Ha: u1-u2>0\n",
    "\n",
    "u1: CityA  \n",
    "u2: CityB\n",
    "\n",
    "This '>' sign in Ha indicates Right Tail Test"
   ]
  },
  {
   "cell_type": "code",
   "execution_count": 138,
   "metadata": {
    "collapsed": true
   },
   "outputs": [],
   "source": [
    "#importing library\n",
    "from scipy.stats import t\n",
    "import numpy as np\n",
    "import scipy.stats as st"
   ]
  },
  {
   "cell_type": "code",
   "execution_count": 164,
   "metadata": {
    "collapsed": true
   },
   "outputs": [],
   "source": [
    "#function for test statistics\n",
    "def mean2test(m1,m2,hyp,s1,s2,n1,n2,dof):\n",
    "    v1=np.power(s1,2)\n",
    "    v2=np.power(s2,2)\n",
    "    \n",
    "    if v1==v2:   \n",
    "        dof=n1+n2-2\n",
    "        x=np.sqrt(((n1-1)*v1 + (n2-1)*v2)/dof)\n",
    "        ts=((m1-m2)-hyp)/(x*np.sqrt(1/n1+1/n2))\n",
    "    else:\n",
    "        dof=min(n1-1,n2-1)\n",
    "        ts=((m1-m2)-hyp)/(np.sqrt(v1/n1+v2/n2))\n",
    "                    \n",
    "        return ts,dof"
   ]
  },
  {
   "cell_type": "code",
   "execution_count": 166,
   "metadata": {},
   "outputs": [
    {
     "name": "stdout",
     "output_type": "stream",
     "text": [
      "Fail to reject null hypothesis at 0.05 level of significance.\n",
      "('the value of ttabulated is', 1.7613101357748562)\n",
      "('the value of tcalculated is', 1.2659577428265592)\n"
     ]
    }
   ],
   "source": [
    "#alpha value\n",
    "alpha=0.05\n",
    "\n",
    "#number of observations in sample1\n",
    "n1=15 \n",
    "\n",
    "#number of observations in sample2\n",
    "n2=18\n",
    "\n",
    "#degree of freedom\n",
    "dof=n1+n2-2\n",
    "\n",
    "#mean of sample1\n",
    "m1=942\n",
    "\n",
    "#mean of sample2\n",
    "m2=898\n",
    "\n",
    "#standard deviation of sample1\n",
    "s1=103\n",
    "\n",
    "#standard deviation of sample2\n",
    "s2=95\n",
    "\n",
    "#parameter value\n",
    "hyp=0\n",
    "\n",
    "#calculated value\n",
    "tcalculated,dof=mean2test(m1,m2,hyp,s1,s2,n1,n2,dof) \n",
    "\n",
    "#tabulated value\n",
    "ttabulated=t.ppf(1-alpha,df=dof) \n",
    "\n",
    "#THIS FUNCTION GIVES AREA TO THE LEFT UNLINE TABLE\n",
    "\n",
    "#hypothesis testing for right tail test\n",
    "if tcalculated>ttabulated:\n",
    "    print(\"Reject null hypothesis at 0.05 level of significance.\")\n",
    "else:\n",
    "    print(\"Fail to reject null hypothesis at 0.05 level of significance.\")\n",
    "    \n",
    "print(\"the value of ttabulated is\", ttabulated)\n",
    "print(\"the value of tcalculated is\", tcalculated)"
   ]
  },
  {
   "cell_type": "markdown",
   "metadata": {},
   "source": [
    "<hr>\n",
    "** Q:A memory class claims that after taking class you will lose key less often. To test 12 people interviewed before and after the class. Test the claim at 0.05 level of significance.  \n",
    "BEFORE:8,10,6,7,4,11,12,5,6,3,6,4  \n",
    "AFTER :6,5,6,6,5,9,4,5,4,4,5,4 **\n"
   ]
  },
  {
   "cell_type": "markdown",
   "metadata": {},
   "source": [
    "Dependent samples\n",
    "\n",
    "H0: ud>=0  \n",
    "Ha: ud<0\n",
    "\n",
    "This '<' in Ha indicates Left Tail Test\n"
   ]
  },
  {
   "cell_type": "code",
   "execution_count": 179,
   "metadata": {
    "collapsed": true
   },
   "outputs": [],
   "source": [
    "#import library\n",
    "from scipy.stats import t\n",
    "import numpy as np"
   ]
  },
  {
   "cell_type": "code",
   "execution_count": 180,
   "metadata": {
    "collapsed": true
   },
   "outputs": [],
   "source": [
    "#function for test statistics\n",
    "def ttest(m,hyp,std,n):\n",
    "    ts=(m-hyp)/(std/np.sqrt(n))\n",
    "    return ts"
   ]
  },
  {
   "cell_type": "code",
   "execution_count": 181,
   "metadata": {},
   "outputs": [
    {
     "name": "stdout",
     "output_type": "stream",
     "text": [
      "Reject null hypothesis at 0.05 level of significance \n",
      "('ttabulated is', -1.7958848187036696)\n",
      "('tcalculated is', -2.6544839962741418)\n"
     ]
    }
   ],
   "source": [
    "import array as arr\n",
    "\n",
    "a=arr.array('i',[8,10,6,7,4,11,12,5,6,3,6,4]) #before\n",
    "b=arr.array('i',[6,5,6,6,5,9,4,5,4,4,5,4])    #after\n",
    "\n",
    "sum=0\n",
    "\n",
    "#calculating difference ie. after-before\n",
    "for i in range(len(a)):\n",
    "    d=b[i]-a[i]\n",
    "    sum+=d\n",
    "    \n",
    "#alpha value\n",
    "alpha=0.05\n",
    "\n",
    "#number of observations\n",
    "n=12    \n",
    "\n",
    "#mean value\n",
    "m=sum/n\n",
    "\n",
    "#parameter value\n",
    "hyp=0\n",
    "\n",
    "#standard deviation\n",
    "std=2.610\n",
    "\n",
    "#calculated value\n",
    "tcalculated=ttest(m,hyp,std,n)\n",
    "\n",
    "#degree of freedom\n",
    "dof=n-1\n",
    "\n",
    "#tabulated value\n",
    "ttabulated=t.ppf(alpha,df=dof)\n",
    "\n",
    "#THIS FUNCTION GIVES AREA TO THE LEFT UNLIKE TABLE\n",
    "\n",
    "#hypothesis testing for left tail test\n",
    "if tcalculated<ttabulated:\n",
    "    print(\"Reject null hypothesis at 0.05 level of significance \")\n",
    "else:\n",
    "    print(\"Fail to accept null hypothesis at 0.05 level of significance\")\n",
    "    \n",
    "print(\"ttabulated is\",ttabulated)\n",
    "print(\"tcalculated is\",tcalculated)"
   ]
  },
  {
   "cell_type": "code",
   "execution_count": null,
   "metadata": {
    "collapsed": true
   },
   "outputs": [],
   "source": []
  }
 ],
 "metadata": {
  "kernelspec": {
   "display_name": "Python 2",
   "language": "python",
   "name": "python2"
  },
  "language_info": {
   "codemirror_mode": {
    "name": "ipython",
    "version": 2
   },
   "file_extension": ".py",
   "mimetype": "text/x-python",
   "name": "python",
   "nbconvert_exporter": "python",
   "pygments_lexer": "ipython2",
   "version": "2.7.14"
  }
 },
 "nbformat": 4,
 "nbformat_minor": 2
}
